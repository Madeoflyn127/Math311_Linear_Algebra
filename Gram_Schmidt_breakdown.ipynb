{
  "nbformat": 4,
  "nbformat_minor": 0,
  "metadata": {
    "colab": {
      "provenance": [],
      "include_colab_link": true
    },
    "kernelspec": {
      "name": "python3",
      "display_name": "Python 3"
    }
  },
  "cells": [
    {
      "cell_type": "markdown",
      "metadata": {
        "id": "view-in-github",
        "colab_type": "text"
      },
      "source": [
        "<a href=\"https://colab.research.google.com/github/Madeoflyn127/Math311_Linear_Algebra/blob/main/Gram_Schmidt_breakdown.ipynb\" target=\"_parent\"><img src=\"https://colab.research.google.com/assets/colab-badge.svg\" alt=\"Open In Colab\"/></a>"
      ]
    },
    {
      "cell_type": "code",
      "metadata": {
        "id": "TXMv3l0X-SNN"
      },
      "source": [
        "import matplotlib.pyplot as plt\n",
        "from sympy import Poly\n",
        "import sympy as sym\n",
        "import numpy as np\n",
        "from numpy import c_\n",
        "\n",
        "ll = \"loaded\""
      ],
      "execution_count": null,
      "outputs": []
    },
    {
      "cell_type": "code",
      "metadata": {
        "id": "QudEaC_f-wxD",
        "outputId": "ccbfaaf5-6e7d-4473-d9d9-165743968142",
        "colab": {
          "base_uri": "https://localhost:8080/"
        }
      },
      "source": [
        "r1 = np.array([ 3, 0, 3, 0 ])\n",
        "r2 = np.array([ 3, 2, 3, 3])\n",
        "r3 = np.array([ -7, -4, -5, -6])\n",
        "r4 = np.array([ -7, -3, -11, 2])\n",
        "\n",
        "print(r1, r2, r3, r4)"
      ],
      "execution_count": null,
      "outputs": [
        {
          "output_type": "stream",
          "name": "stdout",
          "text": [
            "[3 0 3 0] [3 2 3 3] [-7 -4 -5 -6] [ -7  -3 -11   2]\n"
          ]
        }
      ]
    },
    {
      "cell_type": "code",
      "source": [
        "def GSeasy(x, y, z, w):\n",
        "    if y is not None and z is not None and w is not None:\n",
        "        u4 = ((x - x.dot(y)*y - x.dot(z)*z - x.dot(w)*w)/np.sqrt((x - x.dot(y)*y - x.dot(z)*z - x.dot(w)*w).dot((x - x.dot(y)*y - x.dot(z)*z - x.dot(w)*w))))\n",
        "        return u4\n",
        "    elif y is not None and z is not None:\n",
        "        u3 = ((x - x.dot(y)*y - x.dot(z)*z)/np.sqrt((x - x.dot(y)*y - x.dot(z)*z).dot((x - x.dot(y)*y - x.dot(z)*z))))\n",
        "        return u3\n",
        "    elif y is not None:\n",
        "        u2 = (x - x.dot(y)*y)/np.sqrt((x - x.dot(y)*y).dot((x - x.dot(y)*y)))\n",
        "        return u2\n",
        "    else:\n",
        "        u1 = x/(np.sqrt(x.dot(x)))\n",
        "        return u1\n",
        "\n"
      ],
      "metadata": {
        "id": "j6RRyf7RbFNd"
      },
      "execution_count": 79,
      "outputs": []
    },
    {
      "cell_type": "code",
      "source": [
        "u1 = GSeasy(r1, y = None, z = None, w = None)\n",
        "\n",
        "u2 = GSeasy(r2, y = u1, z = None, w = None)\n",
        "\n",
        "u3 = GSeasy(r3, y = u1, z = u2, w = None)\n",
        "\n",
        "u4 = GSeasy(r4, y = u1, z = u2, w = u3)\n",
        "\n",
        "print(\"u1 = \", u1)\n",
        "print(\"u2 = \", u2)\n",
        "print(\"u3 = \", u3)\n",
        "print(\"u4 = \", u4)\n"
      ],
      "metadata": {
        "id": "IW7oJnaQmB5H",
        "colab": {
          "base_uri": "https://localhost:8080/"
        },
        "outputId": "5e910002-44bc-432f-befc-d9f460eab0bf"
      },
      "execution_count": 80,
      "outputs": [
        {
          "output_type": "stream",
          "name": "stdout",
          "text": [
            "u1 =  [0.70710678 0.         0.70710678 0.        ]\n",
            "u2 =  [-1.23168186e-16  5.54700196e-01 -1.23168186e-16  8.32050294e-01]\n",
            "u3 =  [-7.07106781e-01 -3.14018492e-16  7.07106781e-01 -6.28036983e-16]\n",
            "u4 =  [ 0.         -0.83205029  0.          0.5547002 ]\n"
          ]
        }
      ]
    },
    {
      "cell_type": "code",
      "source": [
        "a1 = u1.dot(u1)\n",
        "print(a1)\n",
        "a2 = u2.dot(u2)\n",
        "print(a2)\n",
        "a3 = u3.dot(u3)\n",
        "print(a3)\n",
        "a4 = u4.dot(u4)\n",
        "print(a4)"
      ],
      "metadata": {
        "colab": {
          "base_uri": "https://localhost:8080/"
        },
        "id": "HBINdURUN-6R",
        "outputId": "75e2b67e-20b3-47ab-f4b2-c6275d58b3f0"
      },
      "execution_count": 81,
      "outputs": [
        {
          "output_type": "stream",
          "name": "stdout",
          "text": [
            "1.0000000000000002\n",
            "1.0\n",
            "0.9999999999999998\n",
            "1.0\n"
          ]
        }
      ]
    },
    {
      "cell_type": "code",
      "source": [
        "print(u1.dot(u2))\n",
        "print(u1.dot(u3))\n",
        "print(u1.dot(u4))\n",
        "print(u2.dot(u3))\n",
        "print(u2.dot(u4))\n",
        "print(u3.dot(u4))"
      ],
      "metadata": {
        "colab": {
          "base_uri": "https://localhost:8080/"
        },
        "id": "flErUfgvTxlU",
        "outputId": "9a7025f1-b350-4e75-f5bf-f43b29a60b99"
      },
      "execution_count": 82,
      "outputs": [
        {
          "output_type": "stream",
          "name": "stdout",
          "text": [
            "-1.741861189847285e-16\n",
            "0.0\n",
            "0.0\n",
            "-6.967444759389139e-16\n",
            "-1.2212453270876722e-15\n",
            "-8.709305949236341e-17\n"
          ]
        }
      ]
    }
  ]
}